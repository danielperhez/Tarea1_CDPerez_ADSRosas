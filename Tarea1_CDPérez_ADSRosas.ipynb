{
 "cells": [
  {
   "cell_type": "markdown",
   "metadata": {},
   "source": [
    "<img style=\"float: left; margin: 30px 15px 15px 15px;\" src=\"https://pngimage.net/wp-content/uploads/2018/06/logo-iteso-png-5.png\" width=\"300\" height=\"500\" /> \n",
    "    \n",
    "    \n",
    "### <font color='navy'> Simulación de procesos financieros. \n",
    "\n",
    "**Nombres:** Carlos Daniel Pérez Hernández y Antonio de Santiago Rosas Saldaña\n",
    "\n",
    "**Fecha:** 28 de enero del 2021.\n",
    "\n",
    "**Expediente** : if722627 y af713803\n",
    "**Profesor:** Oscar David Jaramillo Zuluaga.\n",
    "\n",
    "# Tarea 1: Clase: 5"
   ]
  },
  {
   "cell_type": "markdown",
   "metadata": {},
   "source": [
    "## Git\n",
    "> Utilizar lo visto en clase para crear un archivo conjunto en Github, usando los notebooks de Jupyter. También utilizar markdown para transcribir las imágenes tal cual como se encuentran en la **Clase2_GitTutorial2**."
   ]
  },
  {
   "cell_type": "markdown",
   "metadata": {},
   "source": [
    "#### ``Estudiante 1``"
   ]
  },
  {
   "cell_type": "markdown",
   "metadata": {},
   "source": [
    "### Ejercicio 1: \n",
    "Transcribir Las imágenes utilizando Markdown"
   ]
  },
  {
   "cell_type": "markdown",
   "metadata": {},
   "source": [
    "| $$i$$ | $$x$$ | $$f(x)$$ |\n",
    "|-------|:-------:|:----------|\n",
    "| 0     | -1    | 0.3678   |\n",
    "| <font color=red>1     | <font color=red>-0.5  | <font color=red>0.7788   |\n",
    "| <font color=blue>2     | <font color=blue>0     | <font color=blue>1        |\n",
    "| <font color=red>3     | <font color=red>0.5   | <font color=red>0.7788   |\n",
    "| 4     | 1     | 0.3678   |\n",
    "    \n",
    "$$\\textrm{Cuadro 1:Tabla de Valores de f(x)}$$\n"
   ]
  },
  {
   "cell_type": "markdown",
   "metadata": {},
   "source": [
    "\\begin{align}\n",
    "\\int_{-1}^{1} e^{-x^2}\\,dx & \\approx \\frac{0,5}{3} [f(-1) + f(1) + 4({\\color{red}{f(-0,5) + f(0,5)}}) + 2{\\color{blue}{f(0)}}] \\\\ & \\approx \\frac{0,5}{3} [0,3678 + 0,3678 + 4({\\color{red}{0,7788 + 0,7788}}) + 2 \\cdot {\\color{blue}{1}}] \\approx 1,4943\n",
    "\\end{align}"
   ]
  },
  {
   "cell_type": "markdown",
   "metadata": {},
   "source": [
    "<center>A modo de verificación se calculará por software, el valor del área para n = 100, \n",
    "un valor mucho más elevado al que se utilizó anteriormente. Si lo calculado previamente es correcto, se esperaría que sea próximo al valor presentado a continuación para ser una buena aproximación.</center>\n"
   ]
  },
  {
   "cell_type": "markdown",
   "metadata": {},
   "source": [
    "$$\\int_{-1}^{1} e^{x^2}\\,dx \\approx 1,4936$$"
   ]
  },
  {
   "cell_type": "markdown",
   "metadata": {},
   "source": [
    "### Ejercicio 2: \n",
    "Realizar un programa que imprima la serie de fibonacci para sus primeros 100 términos en un array de python,usando la rama “master” del repositorio creado."
   ]
  },
  {
   "cell_type": "code",
   "execution_count": 21,
   "metadata": {},
   "outputs": [
    {
     "name": "stdout",
     "output_type": "stream",
     "text": [
      "[0, 1, 1, 2, 3, 5, 8, 13, 21, 34, 55, 89, 144, 233, 377, 610, 987, 1597, 2584, 4181, 6765, 10946, 17711, 28657, 46368, 75025, 121393, 196418, 317811, 514229, 832040, 1346269, 2178309, 3524578, 5702887, 9227465, 14930352, 24157817, 39088169, 63245986, 102334155, 165580141, 267914296, 433494437, 701408733, 1134903170, 1836311903, 2971215073, 4807526976, 7778742049, 12586269025, 20365011074, 32951280099, 53316291173, 86267571272, 139583862445, 225851433717, 365435296162, 591286729879, 956722026041, 1548008755920, 2504730781961, 4052739537881, 6557470319842, 10610209857723, 17167680177565, 27777890035288, 44945570212853, 72723460248141, 117669030460994, 190392490709135, 308061521170129, 498454011879264, 806515533049393, 1304969544928657, 2111485077978050, 3416454622906707, 5527939700884757, 8944394323791464, 14472334024676221, 23416728348467685, 37889062373143906, 61305790721611591, 99194853094755497, 160500643816367088, 259695496911122585, 420196140727489673, 679891637638612258, 1100087778366101931, 1779979416004714189, 2880067194370816120, 4660046610375530309, 7540113804746346429, 12200160415121876738, 19740274219868223167, 31940434634990099905, 51680708854858323072, 83621143489848422977, 135301852344706746049, 218922995834555169026]\n"
     ]
    }
   ],
   "source": [
    "a = 0\n",
    "b = 1\n",
    "fib = [a, b]\n",
    "for i in range(2,100):\n",
    "    fib.append(fib[i-1] + fib[i-2])\n",
    "\n",
    "print (fib)"
   ]
  },
  {
   "cell_type": "markdown",
   "metadata": {},
   "source": [
    "#### ``Estudiante 2``"
   ]
  },
  {
   "cell_type": "markdown",
   "metadata": {},
   "source": [
    "### Ejercicio 3: \n",
    "Transcribir Las imágenes utilizando Markdown"
   ]
  },
  {
   "cell_type": "markdown",
   "metadata": {},
   "source": [
    "| i              | 1   | 2   | 3   | 4   | 5 | 6 | 7  |\n",
    "|----------------|-----|-----|-----|-----|---|---|----|\n",
    "| $$E_{i} (V)$$      | 12  | 10  | 24  | 12  |   |   |    |\n",
    "| $$r_{i} (\\Omega)$$ | 0.1 | 0.5 | 0.2 | 0.5 |   |   |    |\n",
    "| $$R_{i} (\\Omega)$$ | 25  | 40  | 16  | 20  | 9 | 4 | 20 |\n",
    "\n",
    "\n",
    "\n",
    "Kemna Y Vorst (1990) muestran que las opciones asiáticas con media geométrica continua se pueden valuar con el mismo enfoque de las opciones *plain vainilla*; solo se deben cambiar los parámetros de volatilidad $\\sigma$ por $\\sigma_{a}$, y el costo de acarreo *b* por *$b_{A}$*.\n",
    "\n",
    "De acuerdo con Kemna y Vorst las fórmulas para valuar una opción de compra y una opcón de venta son:\n",
    "\n",
    "$$c\\approx  S_{t}e^{(b_{a}-r)(T-t)}\\phi (d1)-Ke^{-r(T-t)}\\phi (d2)$$\n",
    "\n",
    "$$p\\approx Ke^{-r(T-t)}\\phi (-d_{2})-S_{t}e^{(b_{a}-r)(T-t)}\\phi (-d_{1})$$\n",
    "\n",
    "Con $d_{1}$ y $d_{2}$ dados por:\n",
    "\n",
    "$$d_{1} =\\frac{ln(s_{t}/K)+(b_{A}+1/2\\sigma {_{a}}^{2})(T-t)}{\\sigma \\sqrt{T-t}}$$\n",
    "\n",
    "$$d_{2}=d_{1}-\\sigma _{a}\\sqrt{T-t}$$\n",
    "\n",
    "La función \\phi (d) es la funación de distribución Acumulada de *E~N*(0,1). La volatilidad ajustada es igual a: \n",
    "\n",
    "$$\\sigma _{a}=\\frac{\\sigma }{\\sqrt{3}}$$,\n",
    "\n",
    "mientras que el costo de acarreo ajustado es:\n",
    "\n",
    "$$b_{a}=\\frac{1}{2}(v-\\frac{\\sigma ^{2}}{6})$$"
   ]
  },
  {
   "cell_type": "markdown",
   "metadata": {},
   "source": [
    "### Ejercicio 4: \n",
    "Crear un “branch” llamado `ejerPrograma`, generará un programa que muestre los números primos del 0-100. Luego de que el ESTUDIANTE 2 haya terminado su programa, debe de realizar un “pull request” al ESTUDIANTE 1, **ANTES** de hacer un “merge” de la rama `ejerPrograma` en el proyecto principal (“master”). Luego de realizado estos pasos **NO BORRAR LA RAMA CREADA (`ejerPrograma`)**"
   ]
  },
  {
   "cell_type": "code",
   "execution_count": null,
   "metadata": {},
   "outputs": [],
   "source": [
    "numero = 1\n",
    "while numero <=100:\n",
    "    contador = 1\n",
    "    x=0\n",
    "    while contador <= numero:\n",
    "        if numero % contador == 0:\n",
    "            x=x+1\n",
    "        contador = contador + 1\n",
    "    if  x==2:\n",
    "        print(numero)\n",
    "    numero = numero+1\n",
    "        \n",
    "        "
   ]
  },
  {
   "cell_type": "markdown",
   "metadata": {},
   "source": [
    "### LINK REPOSITORIO\n",
    "[Link repositorio Github](https://github.com/danielperhez/Tarea1_CDPerez_ADSRosas.git)"
   ]
  }
 ],
 "metadata": {
  "kernelspec": {
   "display_name": "Python 3",
   "language": "python",
   "name": "python3"
  },
  "language_info": {
   "codemirror_mode": {
    "name": "ipython",
    "version": 3
   },
   "file_extension": ".py",
   "mimetype": "text/x-python",
   "name": "python",
   "nbconvert_exporter": "python",
   "pygments_lexer": "ipython3",
   "version": "3.8.3"
  }
 },
 "nbformat": 4,
 "nbformat_minor": 4
}
